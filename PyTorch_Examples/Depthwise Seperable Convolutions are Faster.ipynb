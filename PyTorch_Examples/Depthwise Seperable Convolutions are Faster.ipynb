{
 "cells": [
  {
   "cell_type": "markdown",
   "metadata": {},
   "source": [
    "## We Will Train Two Neural Networks; One a Seperable Depthwise Convolution and the Other an Ordinary Convolution\n",
    "\n",
    "This code is adapted from an official [PyTorch tutorial](https://pytorch.org/tutorials/beginner/deep_learning_60min_blitz.html)."
   ]
  },
  {
   "cell_type": "code",
   "execution_count": 1,
   "metadata": {
    "ExecuteTime": {
     "end_time": "2020-07-04T15:56:21.843721Z",
     "start_time": "2020-07-04T15:56:21.044769Z"
    }
   },
   "outputs": [],
   "source": [
    "import torch\n",
    "import torchvision\n",
    "import torchvision.transforms as transforms\n",
    "import torch.nn as nn\n",
    "import torch.nn.functional as F\n",
    "import torch.optim as optim"
   ]
  },
  {
   "cell_type": "code",
   "execution_count": 2,
   "metadata": {
    "ExecuteTime": {
     "end_time": "2020-07-04T15:56:23.689964Z",
     "start_time": "2020-07-04T15:56:21.845759Z"
    }
   },
   "outputs": [
    {
     "name": "stdout",
     "output_type": "stream",
     "text": [
      "Files already downloaded and verified\n",
      "Files already downloaded and verified\n"
     ]
    }
   ],
   "source": [
    "transform = transforms.Compose(\n",
    "    [transforms.ToTensor(),\n",
    "     transforms.Normalize((0.5, 0.5, 0.5), (0.5, 0.5, 0.5))])\n",
    "\n",
    "trainset = torchvision.datasets.CIFAR10(root='./data', train=True,\n",
    "                                        download=True, transform=transform)\n",
    "trainloader = torch.utils.data.DataLoader(trainset, batch_size=4,\n",
    "                                          shuffle=True, num_workers=2)\n",
    "\n",
    "testset = torchvision.datasets.CIFAR10(root='./data', train=False,\n",
    "                                       download=True, transform=transform)\n",
    "testloader = torch.utils.data.DataLoader(testset, batch_size=4,\n",
    "                                         shuffle=False, num_workers=2)\n",
    "\n",
    "classes = ('plane', 'car', 'bird', 'cat',\n",
    "           'deer', 'dog', 'frog', 'horse', 'ship', 'truck')"
   ]
  },
  {
   "cell_type": "code",
   "execution_count": 3,
   "metadata": {
    "ExecuteTime": {
     "end_time": "2020-07-04T15:56:23.706899Z",
     "start_time": "2020-07-04T15:56:23.692496Z"
    }
   },
   "outputs": [],
   "source": [
    "class Depth_sc(nn.Module):\n",
    "    def __init__(self,nin,nout,k):\n",
    "        super(Depth_sc, self).__init__()\n",
    "        self.depth = nn.Conv2d(nin, nin*8, (1,k),groups=nin)\n",
    "        self.point = nn.Conv2d(nin*8, nout, (k,1))\n",
    "        self.act = nn.ReLU6()\n",
    "\n",
    "    def forward(self, x):\n",
    "        x = self.act(self.point(self.depth(x)))\n",
    "        return x\n",
    "    \n",
    "class OrdConv(nn.Module):\n",
    "    def __init__(self,nin,nout,k):\n",
    "        super(OrdConv, self).__init__()\n",
    "        self.layer = nn.Conv2d(nin, nout, k)\n",
    "        self.act = nn.ReLU6()\n",
    "\n",
    "    def forward(self, x):\n",
    "        x = self.act(self.layer(x))\n",
    "        return x\n",
    "    \n",
    "    \n",
    "class Net_SC(nn.Module):\n",
    "    def __init__(self):\n",
    "        super(Net_SC,self).__init__()\n",
    "        self.l1 = OrdConv(3,16,3)\n",
    "        self.l2 = OrdConv(16,32,5)\n",
    "        self.pool =  nn.MaxPool2d(2,2)\n",
    "        self.bn = nn.BatchNorm2d(32)\n",
    "        self.out = nn.Linear(800,10)\n",
    "        \n",
    "    def forward(self,x):\n",
    "        x = self.pool(self.l1(x))\n",
    "        x = self.pool(self.l2(x))\n",
    "        x = self.bn(x)\n",
    "        x = x.view(4,-1)\n",
    "        x = self.out(x)\n",
    "        return x\n",
    "    \n",
    "class Net_Ord(nn.Module):\n",
    "    def __init__(self):\n",
    "        super(Net_Ord,self).__init__()\n",
    "        self.l1 = Depth_sc(3,16,3)\n",
    "        self.l2 = Depth_sc(16,32,5)\n",
    "        self.pool =  nn.MaxPool2d(2,2)\n",
    "        self.bn = nn.BatchNorm2d(32)\n",
    "        self.out = nn.Linear(800,10)\n",
    "        \n",
    "    def forward(self,x):\n",
    "        x = self.pool(self.l1(x))\n",
    "        x = self.pool(self.l2(x))\n",
    "        x = self.bn(x)\n",
    "        x = x.view(4,-1)\n",
    "        x = self.out(x)\n",
    "        return x"
   ]
  },
  {
   "cell_type": "markdown",
   "metadata": {},
   "source": [
    "### Depthwise Seperable Test"
   ]
  },
  {
   "cell_type": "code",
   "execution_count": 4,
   "metadata": {
    "ExecuteTime": {
     "end_time": "2020-07-04T15:56:23.716263Z",
     "start_time": "2020-07-04T15:56:23.709530Z"
    }
   },
   "outputs": [],
   "source": [
    "net = Net_SC()\n",
    "criterion = nn.CrossEntropyLoss()\n",
    "optimizer = optim.SGD(net.parameters(), lr=0.001, momentum=0.9)"
   ]
  },
  {
   "cell_type": "code",
   "execution_count": 5,
   "metadata": {
    "ExecuteTime": {
     "end_time": "2020-07-04T15:59:07.089653Z",
     "start_time": "2020-07-04T15:56:23.965975Z"
    }
   },
   "outputs": [
    {
     "name": "stdout",
     "output_type": "stream",
     "text": [
      "[1,  2000] loss: 1.837\n",
      "[1,  4000] loss: 1.573\n",
      "[1,  6000] loss: 1.444\n",
      "[1,  8000] loss: 1.377\n",
      "[1, 10000] loss: 1.366\n",
      "[1, 12000] loss: 1.318\n",
      "[2,  2000] loss: 1.280\n",
      "[2,  4000] loss: 1.251\n",
      "[2,  6000] loss: 1.229\n",
      "[2,  8000] loss: 1.220\n",
      "[2, 10000] loss: 1.209\n",
      "[2, 12000] loss: 1.179\n",
      "[3,  2000] loss: 1.131\n",
      "[3,  4000] loss: 1.136\n",
      "[3,  6000] loss: 1.152\n",
      "[3,  8000] loss: 1.151\n",
      "[3, 10000] loss: 1.106\n",
      "[3, 12000] loss: 1.129\n"
     ]
    }
   ],
   "source": [
    "for epoch in range(3):\n",
    "\n",
    "    running_loss = 0\n",
    "    for i, data in enumerate(trainloader, 0):\n",
    "        optimizer.zero_grad()\n",
    "        inputs, labels = data\n",
    "\n",
    "        outputs = net(inputs)\n",
    "        loss = criterion(outputs, labels)\n",
    "        loss.backward()\n",
    "        optimizer.step()\n",
    "        \n",
    "        running_loss += loss.item()\n",
    "        if i % 2000 == 1999:\n",
    "            print('[%d, %5d] loss: %.3f' %\n",
    "                  (epoch + 1, i + 1, running_loss / 2000))\n",
    "            running_loss = 0"
   ]
  },
  {
   "cell_type": "markdown",
   "metadata": {},
   "source": [
    "### Ordinary Test"
   ]
  },
  {
   "cell_type": "code",
   "execution_count": 6,
   "metadata": {
    "ExecuteTime": {
     "end_time": "2020-07-04T15:59:07.099819Z",
     "start_time": "2020-07-04T15:59:07.092697Z"
    }
   },
   "outputs": [],
   "source": [
    "net = Net_Ord()\n",
    "criterion = nn.CrossEntropyLoss()\n",
    "optimizer = optim.SGD(net.parameters(), lr=0.001, momentum=0.9)"
   ]
  },
  {
   "cell_type": "code",
   "execution_count": 7,
   "metadata": {
    "ExecuteTime": {
     "end_time": "2020-07-04T16:03:47.893506Z",
     "start_time": "2020-07-04T15:59:07.102404Z"
    }
   },
   "outputs": [
    {
     "name": "stdout",
     "output_type": "stream",
     "text": [
      "[1,  2000] loss: 1.836\n",
      "[1,  4000] loss: 1.601\n",
      "[1,  6000] loss: 1.493\n",
      "[1,  8000] loss: 1.426\n",
      "[1, 10000] loss: 1.413\n",
      "[1, 12000] loss: 1.339\n",
      "[2,  2000] loss: 1.279\n",
      "[2,  4000] loss: 1.271\n",
      "[2,  6000] loss: 1.264\n",
      "[2,  8000] loss: 1.200\n",
      "[2, 10000] loss: 1.204\n",
      "[2, 12000] loss: 1.193\n",
      "[3,  2000] loss: 1.143\n",
      "[3,  4000] loss: 1.142\n",
      "[3,  6000] loss: 1.127\n",
      "[3,  8000] loss: 1.121\n",
      "[3, 10000] loss: 1.135\n",
      "[3, 12000] loss: 1.126\n"
     ]
    }
   ],
   "source": [
    "for epoch in range(3):\n",
    "\n",
    "    running_loss = 0\n",
    "    for i, data in enumerate(trainloader, 0):\n",
    "        optimizer.zero_grad()\n",
    "        inputs, labels = data\n",
    "\n",
    "        outputs = net(inputs)\n",
    "        loss = criterion(outputs, labels)\n",
    "        loss.backward()\n",
    "        optimizer.step()\n",
    "        \n",
    "        running_loss += loss.item()\n",
    "        if i % 2000 == 1999:\n",
    "            print('[%d, %5d] loss: %.3f' %\n",
    "                  (epoch + 1, i + 1, running_loss / 2000))\n",
    "            running_loss = 0"
   ]
  },
  {
   "cell_type": "markdown",
   "metadata": {},
   "source": [
    "According to the Jupyter extension ExecuteTime, the network using seperable convolutions takes about 54 seconds per epoch, while the network using an ordinary convolution takes about 93 seconds per epoch."
   ]
  }
 ],
 "metadata": {
  "kernelspec": {
   "display_name": "Python 3",
   "language": "python",
   "name": "python3"
  },
  "language_info": {
   "codemirror_mode": {
    "name": "ipython",
    "version": 3
   },
   "file_extension": ".py",
   "mimetype": "text/x-python",
   "name": "python",
   "nbconvert_exporter": "python",
   "pygments_lexer": "ipython3",
   "version": "3.6.7"
  }
 },
 "nbformat": 4,
 "nbformat_minor": 4
}
