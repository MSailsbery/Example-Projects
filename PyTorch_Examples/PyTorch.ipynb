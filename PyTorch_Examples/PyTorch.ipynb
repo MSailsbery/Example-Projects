{
 "cells": [
  {
   "cell_type": "markdown",
   "metadata": {},
   "source": [
    "## Introductory Stuff LeNet Tutorial"
   ]
  },
  {
   "cell_type": "code",
   "execution_count": 1,
   "metadata": {
    "ExecuteTime": {
     "end_time": "2020-07-04T14:47:04.466126Z",
     "start_time": "2020-07-04T14:47:03.680296Z"
    }
   },
   "outputs": [],
   "source": [
    "import torch\n",
    "import torchvision\n",
    "import torchvision.transforms as transforms\n",
    "import torch.nn as nn\n",
    "import torch.nn.functional as F\n",
    "import torch.optim as optim\n",
    "import numpy as np"
   ]
  },
  {
   "cell_type": "code",
   "execution_count": 2,
   "metadata": {
    "ExecuteTime": {
     "end_time": "2020-07-04T14:47:08.400901Z",
     "start_time": "2020-07-04T14:47:06.657874Z"
    }
   },
   "outputs": [
    {
     "name": "stdout",
     "output_type": "stream",
     "text": [
      "Files already downloaded and verified\n",
      "Files already downloaded and verified\n"
     ]
    }
   ],
   "source": [
    "transform = transforms.Compose(\n",
    "    [transforms.ToTensor(),\n",
    "     transforms.Normalize((0.5, 0.5, 0.5), (0.5, 0.5, 0.5))])\n",
    "\n",
    "trainset = torchvision.datasets.CIFAR10(root='./data', train=True,\n",
    "                                        download=True, transform=transform)\n",
    "trainloader = torch.utils.data.DataLoader(trainset, batch_size=4,\n",
    "                                          shuffle=True, num_workers=2)\n",
    "\n",
    "testset = torchvision.datasets.CIFAR10(root='./data', train=False,\n",
    "                                       download=True, transform=transform)\n",
    "testloader = torch.utils.data.DataLoader(testset, batch_size=4,\n",
    "                                         shuffle=False, num_workers=2)\n",
    "\n",
    "classes = ('plane', 'car', 'bird', 'cat',\n",
    "           'deer', 'dog', 'frog', 'horse', 'ship', 'truck')"
   ]
  },
  {
   "cell_type": "code",
   "execution_count": 3,
   "metadata": {
    "ExecuteTime": {
     "end_time": "2020-07-04T14:47:11.234683Z",
     "start_time": "2020-07-04T14:47:11.227024Z"
    }
   },
   "outputs": [],
   "source": [
    "class Net(nn.Module):\n",
    "    def __init__(self):\n",
    "        super(Net, self).__init__()\n",
    "        self.conv1 = nn.Conv2d(3, 6, 5)\n",
    "        self.pool = nn.MaxPool2d(2, 2)\n",
    "        self.conv2 = nn.Conv2d(6, 16, 5)\n",
    "        self.fc1 = nn.Linear(16 * 5 * 5, 120)\n",
    "        self.fc2 = nn.Linear(120, 84)\n",
    "        self.fc3 = nn.Linear(84, 10)\n",
    "\n",
    "    def forward(self, x):\n",
    "        #print(x.shape)\n",
    "        x = self.pool(F.relu(self.conv1(x)))\n",
    "        #print(x.shape)\n",
    "        x = self.pool(F.relu(self.conv2(x)))\n",
    "        #print(x.shape)\n",
    "        x = x.view(-1, 16 * 5 * 5)\n",
    "        #print(x.shape)\n",
    "        x = F.relu(self.fc1(x))\n",
    "        #print(x.shape)\n",
    "        x = F.relu(self.fc2(x))\n",
    "        #print(x.shape)\n",
    "        x = self.fc3(x)\n",
    "        #print(x.shape)\n",
    "        #1/0\n",
    "        return x"
   ]
  },
  {
   "cell_type": "code",
   "execution_count": 4,
   "metadata": {
    "ExecuteTime": {
     "end_time": "2020-07-04T14:47:12.377197Z",
     "start_time": "2020-07-04T14:47:12.370156Z"
    }
   },
   "outputs": [],
   "source": [
    "net = Net()\n",
    "criterion = nn.CrossEntropyLoss()\n",
    "optimizer = optim.SGD(net.parameters(), lr=0.001, momentum=0.9)"
   ]
  },
  {
   "cell_type": "code",
   "execution_count": 5,
   "metadata": {
    "ExecuteTime": {
     "end_time": "2020-07-04T14:49:11.955437Z",
     "start_time": "2020-07-04T14:47:13.466110Z"
    },
    "scrolled": true
   },
   "outputs": [
    {
     "name": "stdout",
     "output_type": "stream",
     "text": [
      "[1,  2000] loss: 2.185\n",
      "[1,  4000] loss: 1.801\n",
      "[1,  6000] loss: 1.610\n",
      "[1,  8000] loss: 1.533\n",
      "[1, 10000] loss: 1.463\n",
      "[1, 12000] loss: 1.424\n",
      "[2,  2000] loss: 1.338\n",
      "[2,  4000] loss: 1.323\n",
      "[2,  6000] loss: 1.312\n",
      "[2,  8000] loss: 1.267\n",
      "[2, 10000] loss: 1.278\n",
      "[2, 12000] loss: 1.262\n"
     ]
    }
   ],
   "source": [
    "for epoch in range(2):  # loop over the dataset multiple times\n",
    "\n",
    "    running_loss = 0.0\n",
    "    for i, data in enumerate(trainloader, 0):\n",
    "        # get the inputs; data is a list of [inputs, labels]\n",
    "        inputs, labels = data\n",
    "\n",
    "        # zero the parameter gradients\n",
    "        optimizer.zero_grad()\n",
    "\n",
    "        # forward + backward + optimize\n",
    "        outputs = net(inputs)\n",
    "        loss = criterion(outputs, labels)\n",
    "        loss.backward()\n",
    "        optimizer.step()\n",
    "\n",
    "        # print statistics\n",
    "        running_loss += loss.item()\n",
    "        if i % 2000 == 1999:    # print every 2000 mini-batches\n",
    "            print('[%d, %5d] loss: %.3f' %\n",
    "                  (epoch + 1, i + 1, running_loss / 2000))\n",
    "            running_loss = 0.0\n",
    "            \n",
    "PATH = './cifar_net.pth'\n",
    "torch.save(net.state_dict(), PATH)"
   ]
  },
  {
   "cell_type": "code",
   "execution_count": 6,
   "metadata": {
    "ExecuteTime": {
     "end_time": "2020-07-04T14:49:15.983760Z",
     "start_time": "2020-07-04T14:49:11.958758Z"
    }
   },
   "outputs": [
    {
     "name": "stdout",
     "output_type": "stream",
     "text": [
      "Accuracy of plane : 77 %\n",
      "Accuracy of   car : 67 %\n",
      "Accuracy of  bird : 53 %\n",
      "Accuracy of   cat : 25 %\n",
      "Accuracy of  deer : 43 %\n",
      "Accuracy of   dog : 39 %\n",
      "Accuracy of  frog : 73 %\n",
      "Accuracy of horse : 64 %\n",
      "Accuracy of  ship : 59 %\n",
      "Accuracy of truck : 59 %\n"
     ]
    }
   ],
   "source": [
    "class_correct = list(0. for i in range(10))\n",
    "class_total = list(0. for i in range(10))\n",
    "with torch.no_grad():\n",
    "    for data in testloader:\n",
    "        images, labels = data\n",
    "        outputs = net(images)\n",
    "        _, predicted = torch.max(outputs, 1)\n",
    "        c = (predicted == labels).squeeze()\n",
    "        for i in range(4):\n",
    "            label = labels[i]\n",
    "            class_correct[label] += c[i].item()\n",
    "            class_total[label] += 1\n",
    "\n",
    "\n",
    "for i in range(10):\n",
    "    print('Accuracy of %5s : %2d %%' % (\n",
    "        classes[i], 100 * class_correct[i] / class_total[i]))"
   ]
  },
  {
   "cell_type": "markdown",
   "metadata": {},
   "source": [
    "## Use EfficientNet"
   ]
  },
  {
   "cell_type": "code",
   "execution_count": 17,
   "metadata": {},
   "outputs": [
    {
     "name": "stdout",
     "output_type": "stream",
     "text": [
      "tensor([3, 8, 8, 0])\n"
     ]
    }
   ],
   "source": [
    "model.eval()\n",
    "with torch.no_grad():\n",
    "    for i in testloader:\n",
    "        out = np.round(model(i[0]),3).numpy()\n",
    "        print(i[1])\n",
    "        break"
   ]
  },
  {
   "cell_type": "code",
   "execution_count": 7,
   "metadata": {
    "ExecuteTime": {
     "end_time": "2020-07-04T14:49:16.012984Z",
     "start_time": "2020-07-04T14:49:15.989563Z"
    }
   },
   "outputs": [],
   "source": [
    "class Depth_sc(nn.Module):\n",
    "    def __init__(self,nin,nout,k):\n",
    "        super(Depth_sc, self).__init__()\n",
    "        self.depth = nn.Conv2d(nin, nin*8, (1,k),groups=nin)\n",
    "        self.point = nn.Conv2d(nin*8, nout, (k,1))\n",
    "        self.act = nn.ReLU6()\n",
    "\n",
    "    def forward(self, x):\n",
    "        #x = np.min(F.relu(self.point(self.depth(x))),6)\n",
    "        x = self.act(self.point(self.depth(x)))\n",
    "        return x\n",
    "    \n",
    "class OrdConv(nn.Module):\n",
    "    def __init__(self,nin,nout,k):\n",
    "        super(OrdConv, self).__init__()\n",
    "        self.layer = nn.Conv2d(nin, nout, k)\n",
    "        self.act = nn.ReLU6()\n",
    "\n",
    "    def forward(self, x):\n",
    "        x = self.act(self.layer(x))\n",
    "        return x\n",
    "    \n",
    "'''class Net(nn.Module):\n",
    "    def __init__(self):\n",
    "        super(Net,self).__init__()\n",
    "        #self.stage1 = nn.Conv2d(3, 8, 3) #32 to 16\n",
    "        self.stage2 = Depth_sc(3,8,3) #16 to 8\n",
    "        self.stage3 = Depth_sc(8,32,5) #8 to 4\n",
    "        self.pool = nn.MaxPool2d(2, 2)\n",
    "        self.fc = nn.Linear(5408,10)\n",
    "        #self.bn1 = nn.BatchNorm2d(8)\n",
    "        self.bn2 = nn.BatchNorm2d(8)\n",
    "        #self.bn3 = nn.BatchNorm2d(64)\n",
    "        self.out = nn.Softmax(1)\n",
    "        \n",
    "    def forward(self, x):\n",
    "        #print(x.shape)\n",
    "        #x = self.bn1(self.stage1(x))\n",
    "        #print(x.shape)\n",
    "        x = self.pool(self.stage2(x))\n",
    "        #print(x.shape)\n",
    "        #x = self.bn3(self.stage3(x))\n",
    "        x = self.pool(self.stage3(x))\n",
    "        #print(x.shape)\n",
    "        #x = self.pool(x)\n",
    "        #print(x.shape)\n",
    "        x = x.view(-1,5408)\n",
    "        #print(x.shape)\n",
    "        x = self.fc(x)\n",
    "        #print(x.shape)\n",
    "        x = self.out(x)\n",
    "        #print(x.shape)\n",
    "        #print(x)\n",
    "        #1/0\n",
    "        return x'''\n",
    "\n",
    "class Net_SC(nn.Module):\n",
    "    def __init__(self):\n",
    "        super(Net_SC,self).__init__()\n",
    "        self.l1 = OrdConv(3,16,3)\n",
    "        self.l2 = OrdConv(16,32,5)\n",
    "        self.pool =  nn.MaxPool2d(2,2)\n",
    "        self.bn = nn.BatchNorm2d(32)\n",
    "        self.out = nn.Linear(800,10)\n",
    "        \n",
    "    def forward(self,x):\n",
    "        x = self.pool(self.l1(x))\n",
    "        x = self.pool(self.l2(x))\n",
    "        x = self.bn(x)\n",
    "        x = x.view(4,-1)\n",
    "        x = self.out(x)\n",
    "        return x\n",
    "    \n",
    "class Net_Ord(nn.Module):\n",
    "    def __init__(self):\n",
    "        super(Net_Ord,self).__init__()\n",
    "        self.l1 = Depth_sc(3,16,3)\n",
    "        self.l2 = Depth_sc(16,32,5)\n",
    "        self.pool =  nn.MaxPool2d(2,2)\n",
    "        self.bn = nn.BatchNorm2d(32)\n",
    "        self.out = nn.Linear(800,10)\n",
    "        \n",
    "    def forward(self,x):\n",
    "        x = self.pool(self.l1(x))\n",
    "        x = self.pool(self.l2(x))\n",
    "        x = self.bn(x)\n",
    "        x = x.view(4,-1)\n",
    "        x = self.out(x)\n",
    "        return x"
   ]
  },
  {
   "cell_type": "code",
   "execution_count": 8,
   "metadata": {
    "ExecuteTime": {
     "end_time": "2020-07-04T14:49:16.025901Z",
     "start_time": "2020-07-04T14:49:16.017016Z"
    }
   },
   "outputs": [],
   "source": [
    "net = Net_SC()\n",
    "criterion = nn.CrossEntropyLoss()\n",
    "optimizer = optim.SGD(net.parameters(), lr=0.001, momentum=0.9)"
   ]
  },
  {
   "cell_type": "code",
   "execution_count": 9,
   "metadata": {
    "ExecuteTime": {
     "end_time": "2020-07-04T14:51:58.761461Z",
     "start_time": "2020-07-04T14:49:16.028708Z"
    },
    "scrolled": true
   },
   "outputs": [
    {
     "name": "stdout",
     "output_type": "stream",
     "text": [
      "[1,  2000] loss: 1.812\n",
      "[1,  4000] loss: 1.536\n",
      "[1,  6000] loss: 1.445\n",
      "[1,  8000] loss: 1.388\n",
      "[1, 10000] loss: 1.358\n",
      "[1, 12000] loss: 1.311\n",
      "[2,  2000] loss: 1.222\n",
      "[2,  4000] loss: 1.237\n",
      "[2,  6000] loss: 1.247\n",
      "[2,  8000] loss: 1.210\n",
      "[2, 10000] loss: 1.208\n",
      "[2, 12000] loss: 1.210\n",
      "[3,  2000] loss: 1.132\n",
      "[3,  4000] loss: 1.156\n",
      "[3,  6000] loss: 1.134\n",
      "[3,  8000] loss: 1.124\n",
      "[3, 10000] loss: 1.123\n",
      "[3, 12000] loss: 1.118\n"
     ]
    }
   ],
   "source": [
    "for epoch in range(3):  # loop over the dataset multiple times\n",
    "\n",
    "    running_loss = 0.0\n",
    "    for i, data in enumerate(trainloader, 0):\n",
    "        # get the inputs; data is a list of [inputs, labels]\n",
    "        inputs, labels = data\n",
    "\n",
    "        # zero the parameter gradients\n",
    "        optimizer.zero_grad()\n",
    "\n",
    "        # forward + backward + optimize\n",
    "        outputs = net(inputs)\n",
    "        loss = criterion(outputs, labels)\n",
    "        loss.backward()\n",
    "        optimizer.step()\n",
    "        #1/0\n",
    "        # print statistics\n",
    "        running_loss += loss.item()\n",
    "        if i % 2000 == 1999:    # print every 2000 mini-batches\n",
    "            print('[%d, %5d] loss: %.3f' %\n",
    "                  (epoch + 1, i + 1, running_loss / 2000))\n",
    "            running_loss = 0.0\n",
    "            \n",
    "PATH = './cifar_net.pth'\n",
    "torch.save(net.state_dict(), PATH)"
   ]
  },
  {
   "cell_type": "code",
   "execution_count": 10,
   "metadata": {
    "ExecuteTime": {
     "end_time": "2020-07-04T14:51:58.770524Z",
     "start_time": "2020-07-04T14:51:58.763724Z"
    }
   },
   "outputs": [],
   "source": [
    "net = Net_Ord()\n",
    "criterion = nn.CrossEntropyLoss()\n",
    "optimizer = optim.SGD(net.parameters(), lr=0.001, momentum=0.9)"
   ]
  },
  {
   "cell_type": "code",
   "execution_count": 11,
   "metadata": {
    "ExecuteTime": {
     "end_time": "2020-07-04T14:56:41.002040Z",
     "start_time": "2020-07-04T14:51:58.773659Z"
    }
   },
   "outputs": [
    {
     "name": "stdout",
     "output_type": "stream",
     "text": [
      "[1,  2000] loss: 1.873\n",
      "[1,  4000] loss: 1.602\n",
      "[1,  6000] loss: 1.522\n",
      "[1,  8000] loss: 1.465\n",
      "[1, 10000] loss: 1.461\n",
      "[1, 12000] loss: 1.402\n",
      "[2,  2000] loss: 1.350\n",
      "[2,  4000] loss: 1.352\n",
      "[2,  6000] loss: 1.315\n",
      "[2,  8000] loss: 1.290\n",
      "[2, 10000] loss: 1.283\n",
      "[2, 12000] loss: 1.263\n",
      "[3,  2000] loss: 1.237\n",
      "[3,  4000] loss: 1.208\n",
      "[3,  6000] loss: 1.180\n",
      "[3,  8000] loss: 1.177\n",
      "[3, 10000] loss: 1.176\n",
      "[3, 12000] loss: 1.180\n"
     ]
    }
   ],
   "source": [
    "for epoch in range(3):  # loop over the dataset multiple times\n",
    "\n",
    "    running_loss = 0.0\n",
    "    for i, data in enumerate(trainloader, 0):\n",
    "        # get the inputs; data is a list of [inputs, labels]\n",
    "        inputs, labels = data\n",
    "\n",
    "        # zero the parameter gradients\n",
    "        optimizer.zero_grad()\n",
    "\n",
    "        # forward + backward + optimize\n",
    "        outputs = net(inputs)\n",
    "        loss = criterion(outputs, labels)\n",
    "        loss.backward()\n",
    "        optimizer.step()\n",
    "        #1/0\n",
    "        # print statistics\n",
    "        running_loss += loss.item()\n",
    "        if i % 2000 == 1999:    # print every 2000 mini-batches\n",
    "            print('[%d, %5d] loss: %.3f' %\n",
    "                  (epoch + 1, i + 1, running_loss / 2000))\n",
    "            running_loss = 0.0\n",
    "            \n",
    "PATH = './cifar_net.pth'\n",
    "torch.save(net.state_dict(), PATH)"
   ]
  },
  {
   "cell_type": "code",
   "execution_count": null,
   "metadata": {},
   "outputs": [],
   "source": []
  }
 ],
 "metadata": {
  "kernelspec": {
   "display_name": "Python 3",
   "language": "python",
   "name": "python3"
  },
  "language_info": {
   "codemirror_mode": {
    "name": "ipython",
    "version": 3
   },
   "file_extension": ".py",
   "mimetype": "text/x-python",
   "name": "python",
   "nbconvert_exporter": "python",
   "pygments_lexer": "ipython3",
   "version": "3.6.7"
  }
 },
 "nbformat": 4,
 "nbformat_minor": 2
}
