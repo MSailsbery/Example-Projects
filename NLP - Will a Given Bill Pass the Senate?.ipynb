{
 "cells": [
  {
   "cell_type": "markdown",
   "metadata": {},
   "source": [
    "## Introduction"
   ]
  },
  {
   "cell_type": "markdown",
   "metadata": {},
   "source": [
    "The 116th United States Congress proposes many bills. The conventional wisdom is that few of these get voted on and passed. The purpose of this investigation is to attempt to predict which bills will get passed based solely on an executive summary provided in the dataset. To do this, we will be using the workflow mentioned in chapter 11 of [Deep Learning](http://www.deeplearningbook.org/), a free online textbook by Goodfellow, Bengio, and Courville. The following quote is from pages 416 and 417 of the book."
   ]
  },
  {
   "cell_type": "markdown",
   "metadata": {},
   "source": [
    "_We recommend the following practical design process:_\n",
    "\n",
    "_•Determine your goals—what error metric to use, and your target value forthis error metric. These goals and error metrics should be driven by theproblem that the application is intended to solve._\n",
    "\n",
    "_•Establish a working end-to-end pipeline as soon as possible, including the estimation of the appropriate performance metrics._\n",
    "\n",
    "_•Instrument the system well to determine bottlenecks in performance. Diag-nose which components are performing worse than expected and whetherpoor performance is due to overﬁtting, underﬁtting, or a defect in the dataor software._\n",
    "\n",
    "_•Repeatedly make incremental changes such as gathering new data, adjustinghyperparameters, or changing algorithms, based on speciﬁc ﬁndings fromyour instrumentation._"
   ]
  },
  {
   "cell_type": "markdown",
   "metadata": {},
   "source": [
    "## Imports and Data"
   ]
  },
  {
   "cell_type": "code",
   "execution_count": 1,
   "metadata": {
    "ExecuteTime": {
     "end_time": "2020-07-27T21:59:38.579611Z",
     "start_time": "2020-07-27T21:59:37.544892Z"
    }
   },
   "outputs": [],
   "source": [
    "import os, re, string\n",
    "import xml.etree.ElementTree as etree\n",
    "import numpy as np\n",
    "from matplotlib import pyplot as plt"
   ]
  },
  {
   "cell_type": "code",
   "execution_count": 2,
   "metadata": {
    "ExecuteTime": {
     "end_time": "2020-07-27T21:59:39.270907Z",
     "start_time": "2020-07-27T21:59:39.263087Z"
    },
    "scrolled": true
   },
   "outputs": [
    {
     "data": {
      "text/plain": [
       "({'how': 'roll',\n",
       "  'type': 'vote',\n",
       "  'roll': '16',\n",
       "  'datetime': '2019-02-05',\n",
       "  'where': 's',\n",
       "  'result': 'pass',\n",
       "  'state': 'PASS_OVER:SENATE'},\n",
       " \"Strengthening America's Security in the Middle East Act of 2019\\n\\nThis bill authorizes assistance and weapons transfers to Israel, extends defense cooperation with Jordan, establishes additional sanctions related to the conflict in Syria, and allows states to divest from entities boycotting Israel.\\n\\nIleana Ros-Lehtinen United States-Israel Security Assistance Authorization Act of 2019\\n\\nThe bill reauthorizes through\\xa0FY2028 Foreign Military Financing to Israel. It extends loan guarantees to Israel through FY2023 and authorizes the President to transfer precision-guided munitions to the country.\\n\\nThe bill\\xa0directs the President to report on steps taken to help Israel secure a strategic trade authorization exception.\\n\\nThe bill directs the National Aeronautics and Space Administration to continue working with the Israel Space Agency to pursue peaceful space exploration, and authorizes the Department of State to enter into a memorandum of understanding with Israel to coordinate assistance efforts for developing nations.\\n\\nThe President is authorized to enter into a cooperative project agreement with Israel to develop technology to counter unmanned aerial vehicles.\\n\\nUnited States-Jordan Defense Cooperation Extension Act\\n\\nThe bill\\xa0extends through 2022 arrangements that allow certain defense articles to be transferred to Jordan on an expedited basis. The bill\\xa0also directs the President to submit a report to Congress assessing the costs and benefits of establishing a fund to support private investment in Jordan.\\n\\nCaesar Syria Civilian Protection Act of 2019\\n\\nThe bill\\xa0directs the Department of the Treasury to determine whether the Central Bank of Syria is a primary money-laundering concern and, if so, impose special measures on transactions involving the bank. The bill also imposes sanctions on foreign individuals providing support for the Syrian government, or the military forces or contractors acting on behalf of Syria, Russia, or Iran.\\n\\nThe sanctions include blocking of financial and property transactions and barring of entry into the United States. Such sanctions shall not apply to various nongovernmental organizations and activities related to providing humanitarian aid or supporting democratic institutions in Syria.\\n\\nThe President may suspend the sanctions under certain conditions, including if it is in the United States' national security interests. Combating BDS Act of 2019\\n\\nThe bill allows a state or\\xa0local government to\\xa0adopt measures to divest its assets from entities using boycotts, divestments, or sanctions to influence Israel's policies. Such measures shall meet various requirements, including those related to written notice and comment. It also bars lawsuits against investment companies based solely on a company's decision to divest from entities that use boycotts, divestments, or sanctions to influence Israel's policies.\\n\\nThe bill expresses the sense of the Senate that, before any significant withdrawal of U.S. forces from Syria or Afghanistan, the President should certify that the conditions for the enduring defeat of al Qaeda and ISIS have been met.\")"
      ]
     },
     "execution_count": 2,
     "metadata": {},
     "output_type": "execute_result"
    }
   ],
   "source": [
    "#Example of the Data\n",
    "tree = etree.parse('../Downloads/congress/data/116/bills/s/s1/data.xml')\n",
    "root = tree.getroot()\n",
    "root.find('actions').find('vote').attrib, root.find('summary').text"
   ]
  },
  {
   "cell_type": "markdown",
   "metadata": {},
   "source": [
    "To get access to this free dataset and see more details about it check out [this site](https://www.propublica.org/datastore/dataset/congressional-data-bulk-legislation-bills)."
   ]
  },
  {
   "cell_type": "markdown",
   "metadata": {},
   "source": [
    "## Performance Metrics"
   ]
  },
  {
   "cell_type": "markdown",
   "metadata": {},
   "source": [
    "As we will see in the next section, around 95% of bills do not pass. Additionally, we will find that only bills that are sure to pass get voted on because every voted on bill passed.\n",
    "\n",
    "Taking this into account, we forego making the overall objective accuracy. Instead, we will measure performance by taking the area under the ROC curve. This has an effective minimum of approximately .5 (with random guessing) and a maximum of 1. Based on the outcome of several simple models, we will aim for a score of .8. This would mean that the probability is .8 that a given bill that is passed has a higher score on the model than a given bill that is not passed. For more information, see [here](https://developers.google.com/machine-learning/crash-course/classification/roc-and-auc)."
   ]
  },
  {
   "cell_type": "markdown",
   "metadata": {},
   "source": [
    "## Baseline Approach"
   ]
  },
  {
   "cell_type": "markdown",
   "metadata": {},
   "source": [
    "The basic strategy here is to use Latent Semantic Analysis on a count vectorization of the data. Then, we run a basic logistic regression on the output. Comments will be sprinkled in at appropriate places to highlight observations about the data/problem."
   ]
  },
  {
   "cell_type": "code",
   "execution_count": 3,
   "metadata": {
    "ExecuteTime": {
     "end_time": "2020-07-27T21:59:50.171232Z",
     "start_time": "2020-07-27T21:59:49.149841Z"
    }
   },
   "outputs": [],
   "source": [
    "from sklearn.feature_extraction import text as txt\n",
    "from sklearn.linear_model import LogisticRegression\n",
    "from sklearn import metrics\n",
    "from sklearn.decomposition import TruncatedSVD\n",
    "from sklearn.model_selection import KFold\n",
    "from sklearn.ensemble import RandomForestClassifier"
   ]
  },
  {
   "cell_type": "code",
   "execution_count": 4,
   "metadata": {
    "ExecuteTime": {
     "end_time": "2020-07-27T21:59:53.464211Z",
     "start_time": "2020-07-27T21:59:50.862159Z"
    }
   },
   "outputs": [
    {
     "data": {
      "text/plain": [
       "{None, 'pass'}"
      ]
     },
     "execution_count": 4,
     "metadata": {},
     "output_type": "execute_result"
    }
   ],
   "source": [
    "#Data Input and Cleaning\n",
    "def gather_data_bill_pass(n):\n",
    "    try:\n",
    "        tree = etree.parse('../Downloads/congress/data/116/bills/s/s{}/data.xml'.format(n))\n",
    "        root = tree.getroot()\n",
    "        text = root.find('summary').text\n",
    "        result = root.find('actions').find('vote').attrib['result']\n",
    "        return result\n",
    "    except:\n",
    "        pass\n",
    "    \n",
    "set([gather_data_bill_pass(i) for i in range(1,4212)])"
   ]
  },
  {
   "cell_type": "markdown",
   "metadata": {},
   "source": [
    "This is here to demontrate that every bill that has a _vote_ action has a _pass_ action. So, we only pay attention to which bills were voted on."
   ]
  },
  {
   "cell_type": "code",
   "execution_count": 5,
   "metadata": {
    "ExecuteTime": {
     "end_time": "2020-07-27T21:59:55.560712Z",
     "start_time": "2020-07-27T21:59:54.989528Z"
    }
   },
   "outputs": [],
   "source": [
    "def gather_data_bill_voted(n):\n",
    "    try:\n",
    "        tree = etree.parse('../Downloads/congress/data/116/bills/s/s{}/data.xml'.format(n))\n",
    "        root = tree.getroot()\n",
    "        text = root.find('summary').text\n",
    "        result = \"pass\" if root.find('actions').find('vote') else None\n",
    "        return result, text\n",
    "    except:\n",
    "        pass\n",
    "    \n",
    "data_in = [gather_data_bill_voted(i) for i in range(1,4212)]\n",
    "data_in = [i for i in data_in if i is not None] #Some bills have no summaries. These are skipped."
   ]
  },
  {
   "cell_type": "code",
   "execution_count": 6,
   "metadata": {
    "ExecuteTime": {
     "end_time": "2020-07-27T21:59:56.402545Z",
     "start_time": "2020-07-27T21:59:56.325697Z"
    }
   },
   "outputs": [],
   "source": [
    "def data_cleaning(s_in):\n",
    "    s = ' '.join(s_in.split()) #remove nonspace whitespace characters\n",
    "    s = s.replace('-',' ') #replace dashes\n",
    "    s = re.compile('[%s]' % re.escape(string.punctuation)).sub('',s).lower() #remove punctuation\n",
    "    return s\n",
    "\n",
    "data = [[i[0],data_cleaning(i[1])] for i in data_in]"
   ]
  },
  {
   "cell_type": "code",
   "execution_count": 7,
   "metadata": {
    "ExecuteTime": {
     "end_time": "2020-07-27T21:59:59.394282Z",
     "start_time": "2020-07-27T21:59:59.389045Z"
    }
   },
   "outputs": [
    {
     "name": "stdout",
     "output_type": "stream",
     "text": [
      "Rounded proportion of bills that were passed: 0.054\n"
     ]
    }
   ],
   "source": [
    "corpus = [i[1] for i in data]\n",
    "target = [i[0]=='pass' for i in data] #1 for pass, 0 for no pass (and not voted)\n",
    "print('Rounded proportion of bills that were passed:',round(np.mean(target),3))"
   ]
  },
  {
   "cell_type": "code",
   "execution_count": 8,
   "metadata": {
    "ExecuteTime": {
     "end_time": "2020-07-27T22:00:01.226545Z",
     "start_time": "2020-07-27T22:00:00.685151Z"
    }
   },
   "outputs": [],
   "source": [
    "#Data Transformation\n",
    "def latent_semantic_analysis(corp):\n",
    "    vectorizer = txt.CountVectorizer(stop_words='english')\n",
    "    X_orig = vectorizer.fit_transform(corpus)\n",
    "    svd = TruncatedSVD(100)\n",
    "    X = svd.fit_transform(X_orig)\n",
    "    return X\n",
    "\n",
    "X = latent_semantic_analysis(corpus)"
   ]
  },
  {
   "cell_type": "code",
   "execution_count": 9,
   "metadata": {
    "ExecuteTime": {
     "end_time": "2020-07-27T22:00:03.079675Z",
     "start_time": "2020-07-27T22:00:02.830101Z"
    }
   },
   "outputs": [
    {
     "data": {
      "image/png": "[encoded data removed]",
      "text/plain": [
       "<Figure size 432x288 with 1 Axes>"
      ]
     },
     "metadata": {
      "needs_background": "light"
     },
     "output_type": "display_data"
    }
   ],
   "source": [
    "#Baseline Model - Single Test\n",
    "t = int(.8*len(target)) #Train on first 80% of records\n",
    "\n",
    "model = LogisticRegression(class_weight='balanced')\n",
    "model.fit(X[:t],target[:t])\n",
    "back_preds = model.predict_proba(X[:t])[:,1]\n",
    "\n",
    "xs, ys, _ = metrics.roc_curve(target[:t],back_preds)\n",
    "plt.plot(xs,ys,label = 'ROC Curve - AUC: {}'.format(round(metrics.roc_auc_score(target[:t],back_preds),3)))\n",
    "plt.plot([0,1],[0,1],label = 'Random Guess Threshold')\n",
    "plt.xlabel('False Positive Rate at Threshold')\n",
    "plt.ylabel('True Positive Rate at Threshold')\n",
    "plt.title('ROC Curve of Baseline Model - Training Set')\n",
    "plt.legend()\n",
    "plt.show()"
   ]
  },
  {
   "cell_type": "code",
   "execution_count": 10,
   "metadata": {
    "ExecuteTime": {
     "end_time": "2020-07-27T22:00:04.263955Z",
     "start_time": "2020-07-27T22:00:04.064827Z"
    }
   },
   "outputs": [
    {
     "data": {
      "image/png": "[encoded data removed]",
      "text/plain": [
       "<Figure size 432x288 with 1 Axes>"
      ]
     },
     "metadata": {
      "needs_background": "light"
     },
     "output_type": "display_data"
    }
   ],
   "source": [
    "preds = model.predict_proba(X[t:])[:,1]\n",
    "\n",
    "xs, ys, _ = metrics.roc_curve(target[t:],preds)\n",
    "plt.plot(xs,ys,label = 'ROC Curve - AUC: {}'.format(round(metrics.roc_auc_score(target[t:],preds),3)))\n",
    "plt.plot([0,1],[0,1],label = 'Random Guess Threshold')\n",
    "plt.xlabel('False Positive Rate at Threshold')\n",
    "plt.ylabel('True Positive Rate at Threshold')\n",
    "plt.title('ROC Curve of Baseline Model - Test Set')\n",
    "plt.legend()\n",
    "plt.show()"
   ]
  },
  {
   "cell_type": "code",
   "execution_count": 11,
   "metadata": {
    "ExecuteTime": {
     "end_time": "2020-07-27T22:00:08.040986Z",
     "start_time": "2020-07-27T22:00:07.852387Z"
    }
   },
   "outputs": [
    {
     "name": "stdout",
     "output_type": "stream",
     "text": [
      "5-Fold Training AUC Score: 0.861901637859771 \n",
      "5-Fold Testing AUC Score:  0.6830881378934432\n"
     ]
    }
   ],
   "source": [
    "#Baseline Model - Cross Validated\n",
    "kf = KFold()\n",
    "interp_score = 0\n",
    "extrap_score = 0\n",
    "\n",
    "for train_ind, test_ind in kf.split(X):\n",
    "    train, labels = X[train_ind], np.array(target)[train_ind]\n",
    "    test, answers = X[test_ind], np.array(target)[test_ind]\n",
    "    \n",
    "    model = LogisticRegression(class_weight='balanced')\n",
    "    model.fit(train,labels)\n",
    "    \n",
    "    interp_preds = model.predict_proba(train)[:,1]\n",
    "    extrap_preds = model.predict_proba(test)[:,1]\n",
    "    \n",
    "    interp_score += metrics.roc_auc_score(labels,interp_preds)/5\n",
    "    extrap_score += metrics.roc_auc_score(answers,extrap_preds)/5\n",
    "    \n",
    "print('5-Fold Training AUC Score:', interp_score,'\\n5-Fold Testing AUC Score: ', extrap_score)"
   ]
  },
  {
   "cell_type": "markdown",
   "metadata": {
    "ExecuteTime": {
     "end_time": "2020-07-10T22:54:24.130653Z",
     "start_time": "2020-07-10T22:54:24.121619Z"
    }
   },
   "source": [
    "## More Sophisticated Model Attempts with Summaries"
   ]
  },
  {
   "cell_type": "markdown",
   "metadata": {},
   "source": [
    "### Attempt 1: Random Forest with CountVec or Tf-idf"
   ]
  },
  {
   "cell_type": "code",
   "execution_count": 12,
   "metadata": {
    "ExecuteTime": {
     "end_time": "2020-07-27T22:00:12.152861Z",
     "start_time": "2020-07-27T22:00:11.676551Z"
    }
   },
   "outputs": [],
   "source": [
    "#Data Transformation\n",
    "def latent_semantic_analysis_tfidf(corp):\n",
    "    vectorizer = txt.TfidfVectorizer(stop_words='english')\n",
    "    X_orig = vectorizer.fit_transform(corp)\n",
    "    svd = TruncatedSVD(100)\n",
    "    X = svd.fit_transform(X_orig)\n",
    "    return X\n",
    "\n",
    "X_tfidf = latent_semantic_analysis_tfidf(corpus)"
   ]
  },
  {
   "cell_type": "code",
   "execution_count": 13,
   "metadata": {
    "ExecuteTime": {
     "end_time": "2020-07-27T22:00:33.032120Z",
     "start_time": "2020-07-27T22:00:14.173356Z"
    }
   },
   "outputs": [
    {
     "name": "stdout",
     "output_type": "stream",
     "text": [
      "5-Fold Training AUC Score: 0.9999566576386762 \n",
      "5-Fold Testing AUC Score:  0.6760280632031386\n"
     ]
    }
   ],
   "source": [
    "#Count Vectorizer with Random Forest\n",
    "kf = KFold()\n",
    "interp_score = 0\n",
    "extrap_score = 0\n",
    "\n",
    "for train_ind, test_ind in kf.split(X):\n",
    "    train, labels = X[train_ind], np.array(target)[train_ind]\n",
    "    test, answers = X[test_ind], np.array(target)[test_ind]\n",
    "    \n",
    "    model = RandomForestClassifier(1000, class_weight='balanced', n_jobs = -1)\n",
    "    model.fit(train,labels)\n",
    "    \n",
    "    interp_preds = model.predict_proba(train)[:,1]\n",
    "    extrap_preds = model.predict_proba(test)[:,1]\n",
    "    \n",
    "    interp_score += metrics.roc_auc_score(labels,interp_preds)/5\n",
    "    extrap_score += metrics.roc_auc_score(answers,extrap_preds)/5\n",
    "    \n",
    "print('5-Fold Training AUC Score:', interp_score,'\\n5-Fold Testing AUC Score: ', extrap_score)"
   ]
  },
  {
   "cell_type": "code",
   "execution_count": 14,
   "metadata": {
    "ExecuteTime": {
     "end_time": "2020-07-27T22:00:51.748936Z",
     "start_time": "2020-07-27T22:00:33.035544Z"
    }
   },
   "outputs": [
    {
     "name": "stdout",
     "output_type": "stream",
     "text": [
      "5-Fold Training AUC Score: 0.9999650822614068 \n",
      "5-Fold Testing AUC Score:  0.7032740408067233\n"
     ]
    }
   ],
   "source": [
    "#Tf-idf with Random Forest\n",
    "kf = KFold()\n",
    "interp_score = 0\n",
    "extrap_score = 0\n",
    "\n",
    "for train_ind, test_ind in kf.split(X_tfidf):\n",
    "    train, labels = X_tfidf[train_ind], np.array(target)[train_ind]\n",
    "    test, answers = X_tfidf[test_ind], np.array(target)[test_ind]\n",
    "    \n",
    "    model = RandomForestClassifier(1000, class_weight='balanced', n_jobs=-1)\n",
    "    model.fit(train,labels)\n",
    "    \n",
    "    interp_preds = model.predict_proba(train)[:,1]\n",
    "    extrap_preds = model.predict_proba(test)[:,1]\n",
    "    \n",
    "    interp_score += metrics.roc_auc_score(labels,interp_preds)/5\n",
    "    extrap_score += metrics.roc_auc_score(answers,extrap_preds)/5\n",
    "    \n",
    "print('5-Fold Training AUC Score:', interp_score,'\\n5-Fold Testing AUC Score: ', extrap_score)"
   ]
  },
  {
   "cell_type": "markdown",
   "metadata": {},
   "source": [
    "We can see that the training set score is very high, so we are certainly not underfitting. Let's check to see if adding more training data would help."
   ]
  },
  {
   "cell_type": "code",
   "execution_count": 15,
   "metadata": {
    "ExecuteTime": {
     "end_time": "2020-07-27T22:01:20.870359Z",
     "start_time": "2020-07-27T22:00:56.564402Z"
    }
   },
   "outputs": [
    {
     "data": {
      "image/png": "[encoded data removed]",
      "text/plain": [
       "<Figure size 432x288 with 1 Axes>"
      ]
     },
     "metadata": {
      "needs_background": "light"
     },
     "output_type": "display_data"
    }
   ],
   "source": [
    "ex_scores = []\n",
    "l = len(corpus)\n",
    "\n",
    "for p in range(1,11):\n",
    "    X_tfidf = latent_semantic_analysis_tfidf(corpus[:int(.1*p*l)])\n",
    "    target_l = target[:int(.1*p*l)]\n",
    "    kf = KFold()\n",
    "    extrap_score = 0\n",
    "\n",
    "    for train_ind, test_ind in kf.split(X_tfidf):\n",
    "        train, labels = X_tfidf[train_ind], np.array(target_l)[train_ind]\n",
    "        test, answers = X_tfidf[test_ind], np.array(target_l)[test_ind]\n",
    "\n",
    "        model = RandomForestClassifier(100, class_weight='balanced', n_jobs=-1)\n",
    "        model.fit(train,labels)\n",
    "\n",
    "        extrap_preds = model.predict_proba(test)[:,1]\n",
    "        extrap_score += metrics.roc_auc_score(answers,extrap_preds)/5\n",
    "    \n",
    "    ex_scores.append(extrap_score)\n",
    "        \n",
    "plt.plot(np.linspace(.1,1,10), ex_scores, label='Extrapolation Scores')\n",
    "plt.legend()\n",
    "plt.xlim(0,1)\n",
    "plt.ylim(0,1)\n",
    "plt.ylabel('5-Fold ROC AUC Score')\n",
    "plt.xlabel('Proportion of Dataset Used')\n",
    "plt.show()"
   ]
  },
  {
   "cell_type": "markdown",
   "metadata": {
    "ExecuteTime": {
     "end_time": "2020-07-11T01:06:34.655159Z",
     "start_time": "2020-07-11T01:06:34.651521Z"
    }
   },
   "source": [
    "The AUC score is basically flat after using more than 30% of the dataset, so it does not seem like we need more data (yet). Let's check the worst guesses of the model to see if there is any more information for us there."
   ]
  },
  {
   "cell_type": "markdown",
   "metadata": {},
   "source": [
    "#### Worst Guesses"
   ]
  },
  {
   "cell_type": "code",
   "execution_count": 16,
   "metadata": {
    "ExecuteTime": {
     "end_time": "2020-07-27T22:01:26.382344Z",
     "start_time": "2020-07-27T22:01:26.378518Z"
    }
   },
   "outputs": [],
   "source": [
    "worst_5_up = np.argsort(extrap_preds - answers)[:5] #Passed but not predicted\n",
    "worst_5_down = np.argsort(extrap_preds - answers)[-5:] #Not passed, but should have"
   ]
  },
  {
   "cell_type": "code",
   "execution_count": 17,
   "metadata": {
    "ExecuteTime": {
     "end_time": "2020-07-27T22:01:27.334456Z",
     "start_time": "2020-07-27T22:01:27.330091Z"
    }
   },
   "outputs": [
    {
     "data": {
      "text/plain": [
       "['covid 19 pandemic moment of silence act this bill directs the president to issue a proclamation calling on the people of the united states to observe a moment of silence on june 1 2020 to honor the memory of the lives lost in the united states due to the covid 19 ie coronavirus disease 2019 pandemic',\n",
       " 'major medical facility authorization act of 2020 this bill authorizes the department of veterans affairs to carry out specified major medical facility projects during fy2020 the bill also indicates the maximum amount that can be spent on each project',\n",
       " 'this bill releases certain reversionary interest in land to tennessee and adds additional lands to the rough mountain wilderness and the rich hole wilderness in virginia sec 1 upon the transfer of ownership of the approximately 090 acre parcel of land identified as the webb property to tennessee for inclusion in the chickasaw state forest and the transfer of the approximately 062 acre parcel of land identified as state forest land to tennessee or a non state entity the department of agriculture usda shall release to tennessee the reversionary interest of the united states in the state forest land that requires the land to be used for public purposes after such actions usda shall offer to sell to tennessee the undivided mineral interests of the united states in the state forest land sec 2 the bill adds specified lands in the george washington national forest to the rough mountain wilderness and the rich hole wilderness until the additional land is incorporated into the rich hole wilderness usda may use motorized equipment and mechanized transport in the addition for activities to improve water quality and aquatic passage',\n",
       " 'small business lending continuity act of 2020 this bill revises the authorization for certain small business administration sba loan products currently linked to the paycheck protection program that was implemented in response to covid 19 ie coronavirus disease 2019 under current law the authorization for the paycheck protection program and the sbas standard small business loan products the 7a loan program are combined into one joint authorization for the duration of the paycheck protection program the bill returns the 7a loan program to the purview of its stand alone authorization to prevent it from being terminated upon the two programs attainment of the joint authorization cap',\n",
       " 'this bill extends through august 8 2020 the application period for the paycheck protection program established to support small businesses in response to covid 19 ie coronavirus disease 2019']"
      ]
     },
     "execution_count": 17,
     "metadata": {},
     "output_type": "execute_result"
    }
   ],
   "source": [
    "[corpus[test_ind[i]] for i in worst_5_up]"
   ]
  },
  {
   "cell_type": "code",
   "execution_count": 18,
   "metadata": {
    "ExecuteTime": {
     "end_time": "2020-07-27T22:01:29.966084Z",
     "start_time": "2020-07-27T22:01:29.961888Z"
    }
   },
   "outputs": [
    {
     "data": {
      "text/plain": [
       "['designates the facility of the united states postal service located at 2600 wesley street in greenville texas as the audie murphy post office building',\n",
       " 'designates the facility of the united states postal service located at 171 south maple street in dana indiana as the ernest ernie t pyle post office',\n",
       " 'designates the facility of the united states postal service located at 100 crosby street in mansfield louisiana as the dr co simpkins sr post office',\n",
       " 'designates the facility of the united states postal service located at 909 west holiday drive in fate texas as the ralph hall post office',\n",
       " 'designates the facility of the united states postal service located at 311 west wisconsin avenue in tomahawk wisconsin as the einar sarge h ingman jr post office building']"
      ]
     },
     "execution_count": 18,
     "metadata": {},
     "output_type": "execute_result"
    }
   ],
   "source": [
    "[corpus[test_ind[i]] for i in worst_5_down]"
   ]
  },
  {
   "cell_type": "markdown",
   "metadata": {
    "ExecuteTime": {
     "end_time": "2020-07-13T15:15:47.002593Z",
     "start_time": "2020-07-13T15:15:46.977105Z"
    }
   },
   "source": [
    "Many of the biggest mistakes are to do with post office renamings. Apart from not being the most substantial bills, these also seem to usually pass. Maybe because we are using the current session of congress, some bills that will eventually get passed are not marked as passed in the data. What happen if we use the data from previous sessions of congress?"
   ]
  },
  {
   "cell_type": "markdown",
   "metadata": {},
   "source": [
    "### Attempt 2: Redo with More (Older) Data"
   ]
  },
  {
   "cell_type": "markdown",
   "metadata": {},
   "source": [
    "In the second (and most successful) attempt, we make 116th congress the test set and use the data from the previous three congresses (113, 114, and 115) to train.\n",
    "\n",
    "Essentially, all the code of the above attempt is put in the following cell and we get out 5 different results.\n",
    "\n",
    "- The ROC Curve of the Logistic Model on the training set (Graph)\n",
    "- The ROC Curve of the Logistic Model on the test set (Graph)\n",
    "- The performance of the random forest using the count vectorizer embedding (2 Printed Lines)\n",
    "- The performance of the random forest using the tf-idf embedding (2 Printed Lines)\n",
    "- The performance of the random forest using the tf-idf embedding as a function of the proportion of training data used (Graph; Note that when x% of the training set was used, we use the most recent x%)"
   ]
  },
  {
   "cell_type": "code",
   "execution_count": 19,
   "metadata": {
    "ExecuteTime": {
     "end_time": "2020-07-27T22:04:21.175565Z",
     "start_time": "2020-07-27T22:03:15.326602Z"
    }
   },
   "outputs": [
    {
     "data": {
      "image/png": "[encoded data removed]",
      "text/plain": [
       "<Figure size 432x288 with 1 Axes>"
      ]
     },
     "metadata": {
      "needs_background": "light"
     },
     "output_type": "display_data"
    },
    {
     "data": {
      "image/png": "[encoded data removed]",
      "text/plain": [
       "<Figure size 432x288 with 1 Axes>"
      ]
     },
     "metadata": {
      "needs_background": "light"
     },
     "output_type": "display_data"
    },
    {
     "name": "stdout",
     "output_type": "stream",
     "text": [
      "CountVectorizer Training AUC Score: 0.9999994918346294 \n",
      "CountVectorizer Testing AUC Score:  0.7628290052171873\n",
      "Tf-idf Training AUC Score: 0.9999991530577158 \n",
      "Tf-idf Testing AUC Score:  0.7888489946655725\n"
     ]
    },
    {
     "data": {
      "image/png": "[encoded data removed]",
      "text/plain": [
       "<Figure size 432x288 with 1 Axes>"
      ]
     },
     "metadata": {
      "needs_background": "light"
     },
     "output_type": "display_data"
    }
   ],
   "source": [
    "def gather_data_bill_voted(n):\n",
    "    try:\n",
    "        tree = etree.parse('../Downloads/congress/data/{}/bills/s/s{}/data.xml'.format(cong_num,n))\n",
    "        root = tree.getroot()\n",
    "        text = root.find('summary').text\n",
    "        result = \"pass\" if root.find('actions').find('vote') else None\n",
    "        if (cong_num == 113) and (n == 2280):\n",
    "            result = None\n",
    "        return result, text\n",
    "    except:\n",
    "        pass\n",
    "\n",
    "cong_num = 113\n",
    "data_in_113 = [gather_data_bill_voted(i) for i in range(1,20000)]\n",
    "cong_num = 114    \n",
    "data_in_114 = [gather_data_bill_voted(i) for i in range(1,20000)]\n",
    "cong_num = 115\n",
    "data_in_115 = [gather_data_bill_voted(i) for i in range(1,20000)]\n",
    "cong_num = 116\n",
    "data_in_116 = [gather_data_bill_voted(i) for i in range(1,20000)]\n",
    "data_in = data_in_113 + data_in_114 + data_in_115 + data_in_116\n",
    "\n",
    "len_116 = len([i for i in data_in_116 if i is not None])\n",
    "\n",
    "data_in = [i for i in data_in if i is not None] #Some bills have no summaries. These are skipped.\n",
    "\n",
    "data = [[i[0],data_cleaning(i[1])] for i in data_in]\n",
    "\n",
    "corpus = [i[1] for i in data]\n",
    "target = [i[0]=='pass' for i in data] #1 for pass, 0 for no pass (and not voted)\n",
    "\n",
    "X = latent_semantic_analysis(corpus)\n",
    "X_tfidf = latent_semantic_analysis_tfidf(corpus)\n",
    "\n",
    "train, test = X[:-len_116], X[-len_116:]\n",
    "train_tf, test_tf = X_tfidf[:-len_116], X_tfidf[-len_116:]\n",
    "labels, answers = target[:-len_116], target[-len_116:]\n",
    "\n",
    "#Baseline Model - Single Test\n",
    "model = LogisticRegression(class_weight='balanced')\n",
    "model.fit(train,labels)\n",
    "back_preds = model.predict_proba(train)[:,1]\n",
    "\n",
    "xs, ys, _ = metrics.roc_curve(labels,back_preds)\n",
    "plt.plot(xs,ys,label = 'ROC Curve - AUC: {}'.format(round(metrics.roc_auc_score(labels,back_preds),3)))\n",
    "plt.plot([0,1],[0,1],label = 'Random Guess Threshold')\n",
    "plt.xlabel('False Positive Rate at Threshold')\n",
    "plt.ylabel('True Positive Rate at Threshold')\n",
    "plt.title('ROC Curve of Baseline Model - Training Set')\n",
    "plt.legend()\n",
    "plt.show()\n",
    "\n",
    "preds = model.predict_proba(test)[:,1]\n",
    "\n",
    "xs, ys, _ = metrics.roc_curve(answers,preds)\n",
    "plt.plot(xs,ys,label = 'ROC Curve - AUC: {}'.format(round(metrics.roc_auc_score(answers,preds),3)))\n",
    "plt.plot([0,1],[0,1],label = 'Random Guess Threshold')\n",
    "plt.xlabel('False Positive Rate at Threshold')\n",
    "plt.ylabel('True Positive Rate at Threshold')\n",
    "plt.title('ROC Curve of Baseline Model - Test Set')\n",
    "plt.legend()\n",
    "plt.show()\n",
    "    \n",
    "model = RandomForestClassifier(1000, class_weight='balanced', n_jobs = -1)\n",
    "model.fit(train,labels)\n",
    "\n",
    "interp_preds = model.predict_proba(train)[:,1]\n",
    "extrap_preds = model.predict_proba(test)[:,1]\n",
    "\n",
    "interp_score = metrics.roc_auc_score(labels,interp_preds)\n",
    "extrap_score = metrics.roc_auc_score(answers,extrap_preds)\n",
    "    \n",
    "print('CountVectorizer Training AUC Score:', interp_score,\n",
    "      '\\nCountVectorizer Testing AUC Score: ', extrap_score)\n",
    "    \n",
    "model = RandomForestClassifier(1000, class_weight='balanced', n_jobs=-1)\n",
    "model.fit(train_tf,labels)\n",
    "\n",
    "interp_preds = model.predict_proba(train_tf)[:,1]\n",
    "extrap_preds = model.predict_proba(test_tf)[:,1]\n",
    "\n",
    "interp_score = metrics.roc_auc_score(labels,interp_preds)\n",
    "extrap_score = metrics.roc_auc_score(answers,extrap_preds)\n",
    "    \n",
    "print('Tf-idf Training AUC Score:', interp_score,\n",
    "      '\\nTf-idf Testing AUC Score: ', extrap_score)\n",
    "\n",
    "ex_scores = []\n",
    "l = len(corpus) - len_116\n",
    "\n",
    "for p in range(1,11):\n",
    "    X_p = X_tfidf[l-int(.1*p*l):l]\n",
    "    target_p = target[l-int(.1*p*l):l]\n",
    "\n",
    "    model = RandomForestClassifier(100, class_weight='balanced', n_jobs=-1)\n",
    "    model.fit(X_p,target_p)\n",
    "\n",
    "    extrap_preds = model.predict_proba(test_tf)[:,1]\n",
    "    extrap_score = metrics.roc_auc_score(answers,extrap_preds)\n",
    "    \n",
    "    ex_scores.append(extrap_score)\n",
    "        \n",
    "plt.plot(np.linspace(.1,1,10), ex_scores, label='Extrapolation Scores')\n",
    "plt.legend()\n",
    "plt.xlim(0,1)\n",
    "plt.ylim(0,1)\n",
    "plt.ylabel('ROC AUC Score')\n",
    "plt.xlabel('Proportion of Prior Data Used')\n",
    "plt.show()"
   ]
  },
  {
   "cell_type": "markdown",
   "metadata": {},
   "source": [
    "# Conclusion\n",
    "\n",
    "From these results, we can conclude that using the data on prior congresses was _very_ helpful! In fact, if we update our data to not include any bills that should pass in the near future (looking at you, post office renamings), we might get right around our goal of .8 ROC AUC score. That is great!\n",
    "\n",
    "There are still more informational embeddings and autencoders, as well as a plethora of strong machine learning models that we have not used here. We have hardly even scratched the surface. That is kind of the point though. Every technique we used is fully interpretable and not too complicated in the scheme of things. This goes to show that _good performance can be achieved by white/gray box models_. It was improving the quality of the data that got us our better performance.\n",
    "\n",
    "Complex and black box models do have their place, though. I am sure that with the improved data quality, well-regularized black box models would still outpreform our models here.\n",
    "\n",
    "There are two ways to proceed at this. Begin interpretting the process of this model or jump to black box models to improve the score. What one chooses to do depends on the context of the problem at hand."
   ]
  }
 ],
 "metadata": {
  "kernelspec": {
   "display_name": "Python 3",
   "language": "python",
   "name": "python3"
  },
  "language_info": {
   "codemirror_mode": {
    "name": "ipython",
    "version": 3
   },
   "file_extension": ".py",
   "mimetype": "text/x-python",
   "name": "python",
   "nbconvert_exporter": "python",
   "pygments_lexer": "ipython3",
   "version": "3.6.10"
  }
 },
 "nbformat": 4,
 "nbformat_minor": 4
}
