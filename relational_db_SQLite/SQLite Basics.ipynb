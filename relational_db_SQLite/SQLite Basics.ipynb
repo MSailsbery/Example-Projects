{
 "cells": [
  {
   "cell_type": "markdown",
   "metadata": {},
   "source": [
    "# Explanation\n",
    "\n",
    "Here I create and query a SQLite database using python's standard API sqlite3. This is just a basic demonstration of my proficiency in SQLite.\n",
    "\n",
    "The fictional tables we will be using are:\n",
    "\n",
    "### ModelPrice\n",
    "\n",
    "|Model ID| Price (USD)|\n",
    "|---|---:|\n",
    "|00001|8000.00|\n",
    "|00002|8000.00|\n",
    "|00003|15000.00|\n",
    "|00004|3000.00|\n",
    "\n",
    "### ModelReliability\n",
    "\n",
    "|Model ID| # of Faults|\n",
    "|---|:---:|\n",
    "|00001|23|\n",
    "|00002|8|\n",
    "|00003|14|\n",
    "|00004|11|\n",
    "\n",
    "### ManufacturedProducts\n",
    "\n",
    "|Product ID| Model ID|Date Manufactured|\n",
    "|---|---|---|\n",
    "|00001|00001|05/11/2020|\n",
    "|00002|00001|05/13/2020|\n",
    "|00003|00004|05/16/2020|\n",
    "|00004|00001|05/16/2020|\n",
    "|00005|00002|06/04/2020|\n",
    "|00006|00002|06/08/2020|\n",
    "|00007|00004|06/23/2020|\n",
    "|00008|00003|06/29/2020|\n",
    "|00009|00002|07/02/2020|\n",
    "|00010|00002|07/09/2020|\n",
    "|00011|00001|07/11/2020|\n",
    "|00012|00003|07/14/2020|\n",
    "\n",
    "\n",
    "### CustomerOwnership\n",
    "\n",
    "|Product ID| Customer Name|\n",
    "|---|---|\n",
    "|00001|Amazon|\n",
    "|00002|Amazon|\n",
    "|00003|Amazon|\n",
    "|00004|Boeing|\n",
    "|00005|Boeing|\n",
    "|00006|Walmart|\n",
    "|00007|Boeing|\n",
    "|00008|Walmart|\n",
    "|00009|Amazon|\n",
    "|00010|Boeing|\n",
    "\n",
    "\n",
    "\n"
   ]
  },
  {
   "cell_type": "markdown",
   "metadata": {},
   "source": [
    "# Creation of the Database"
   ]
  },
  {
   "cell_type": "code",
   "execution_count": 53,
   "metadata": {
    "ExecuteTime": {
     "end_time": "2020-07-27T21:15:10.125179Z",
     "start_time": "2020-07-27T21:15:10.122801Z"
    }
   },
   "outputs": [],
   "source": [
    "import sqlite3 as sql\n",
    "import pandas as pd"
   ]
  },
  {
   "cell_type": "code",
   "execution_count": 31,
   "metadata": {
    "ExecuteTime": {
     "end_time": "2020-07-27T21:06:59.008117Z",
     "start_time": "2020-07-27T21:06:58.999166Z"
    },
    "collapsed": true
   },
   "outputs": [
    {
     "data": {
      "text/plain": [
       "<sqlite3.Cursor at 0x119f14880>"
      ]
     },
     "execution_count": 31,
     "metadata": {},
     "output_type": "execute_result"
    }
   ],
   "source": [
    "connection = sql.connect('example.db')\n",
    "cur = connection.cursor()\n",
    "\n",
    "#Make Tables\n",
    "cur.execute('CREATE TABLE ModelPrice (ModelID INTEGER, Price REAL)')\n",
    "cur.execute('CREATE TABLE ModelReliability (ModelID INTEGER, NumFaults INTEGER)')\n",
    "cur.execute('CREATE TABLE ManufacturedProducts (ProductID INTEGER, ModelID Integer, DateManufact TEXT)')\n",
    "cur.execute('CREATE TABLE CustomerOwnership (ProductID INTEGER, CompanyName Text)')"
   ]
  },
  {
   "cell_type": "code",
   "execution_count": 32,
   "metadata": {
    "ExecuteTime": {
     "end_time": "2020-07-27T21:07:02.902829Z",
     "start_time": "2020-07-27T21:07:02.892889Z"
    }
   },
   "outputs": [],
   "source": [
    "#Table Rows\n",
    "data_1 = [(1,8000.),(2,8000.),(3,15000.),(4,3000.)]\n",
    "data_2 = [(1,23),(2,8),(3,14),(4,11)]\n",
    "data_3 = [(1,1,'05/11/2020'),(2,1,'05/13/2020'),(3,4,'05/16/2020'),\n",
    "          (4,1,'05/16/2020'),(5,2,'06/04/2020'),(6,2,'06/08/2020'),\n",
    "          (7,4,'06/23/2020'),(8,3,'06/29/2020'),(9,2,'07/02/2020'),\n",
    "          (10,2,'07/09/2020'),(11,1,'07/11/2020'),(12,3,'07/14/2020')]\n",
    "data_4 = [(1,'Amazon'),(2,'Amazon'),(3,'Amazon'),(4,'Boeing'),(5,'Boeing'),\n",
    "          (6,'Walmart'),(7,'Boeing'),(8,'Walmart'),(9,'Amazon'),(10,'Boeing')]\n",
    "\n",
    "#Insert Data Into Tables\n",
    "cur.executemany('INSERT INTO ModelPrice VALUES(?,?)',data_1)\n",
    "cur.executemany('INSERT INTO ModelReliability VALUES(?,?)',data_2)\n",
    "cur.executemany('INSERT INTO ManufacturedProducts VALUES(?,?,?)',data_3)\n",
    "cur.executemany('INSERT INTO CustomerOwnership VALUES(?,?)',data_4)\n",
    "\n",
    "connection.commit()\n",
    "\n",
    "connection.close()"
   ]
  },
  {
   "cell_type": "markdown",
   "metadata": {},
   "source": [
    "# Question $\\rightarrow$ Query $\\rightarrow$ Answer"
   ]
  },
  {
   "cell_type": "code",
   "execution_count": 33,
   "metadata": {
    "ExecuteTime": {
     "end_time": "2020-07-27T21:07:07.775643Z",
     "start_time": "2020-07-27T21:07:07.772596Z"
    }
   },
   "outputs": [],
   "source": [
    "#Access Database and Create Backup... Just in Case\n",
    "connection = sql.connect('example.db')\n",
    "backup = sql.connect('backup.db')\n",
    "connection.backup(backup)\n",
    "backup.close()\n",
    "\n",
    "cur = connection.cursor()"
   ]
  },
  {
   "cell_type": "markdown",
   "metadata": {},
   "source": [
    "### Question #1: Which models of our products does each customer use?"
   ]
  },
  {
   "cell_type": "code",
   "execution_count": 52,
   "metadata": {
    "ExecuteTime": {
     "end_time": "2020-07-27T21:14:59.205207Z",
     "start_time": "2020-07-27T21:14:59.195543Z"
    }
   },
   "outputs": [
    {
     "data": {
      "text/plain": [
       "Name\n",
       "Amazon     [1, 4, 2]\n",
       "Boeing     [1, 2, 4]\n",
       "Walmart       [2, 3]\n",
       "Name: ID, dtype: object"
      ]
     },
     "metadata": {},
     "output_type": "display_data"
    }
   ],
   "source": [
    "df = pd.DataFrame(cur.execute('SELECT DISTINCT CompanyName, ModelID '\n",
    "                              'FROM ManufacturedProducts AS MP INNER JOIN CustomerOwnership AS CO '\n",
    "                              'ON MP.ProductID = CO.ProductID ').fetchall(),columns=['Name','ID'])\n",
    "df.groupby('Name').ID.unique()"
   ]
  },
  {
   "cell_type": "markdown",
   "metadata": {},
   "source": [
    "### Question #2: What is our revenue by month?"
   ]
  },
  {
   "cell_type": "code",
   "execution_count": 78,
   "metadata": {
    "ExecuteTime": {
     "end_time": "2020-07-27T21:31:44.378493Z",
     "start_time": "2020-07-27T21:31:44.367485Z"
    }
   },
   "outputs": [
    {
     "data": {
      "text/plain": [
       "DateManufact\n",
       "5    27000.0\n",
       "6    34000.0\n",
       "7    16000.0\n",
       "Name: Price, dtype: float64"
      ]
     },
     "execution_count": 78,
     "metadata": {},
     "output_type": "execute_result"
    }
   ],
   "source": [
    "#Revenue Only Comes From Products That Are Sold\n",
    "df = pd.DataFrame(cur.execute('SELECT MAP.DateManufact, MOP.Price '\n",
    "                              'FROM CustomerOwnership AS CO ' \n",
    "                              'INNER JOIN ManufacturedProducts AS MAP, ModelPrice AS MOP '\n",
    "                              'ON CO.ProductID = MAP.ProductID AND MAP.ModelID = MOP.ModelID').fetchall(),\n",
    "                 columns = ['DateManufact','Price'])\n",
    "df['DateManufact'] = pd.to_datetime(df['DateManufact'])\n",
    "df.groupby(df.DateManufact.dt.month).Price.sum()"
   ]
  },
  {
   "cell_type": "markdown",
   "metadata": {},
   "source": [
    "### Question #3: How reliable is each model (weighted by cumulative days after manufacture date)?"
   ]
  },
  {
   "cell_type": "code",
   "execution_count": 77,
   "metadata": {
    "ExecuteTime": {
     "end_time": "2020-07-27T21:29:25.015101Z",
     "start_time": "2020-07-27T21:29:24.996610Z"
    }
   },
   "outputs": [
    {
     "name": "stdout",
     "output_type": "stream",
     "text": [
      "Faults per day since production\n",
      " ModelID\n",
      "1    0.095833\n",
      "2    0.055172\n",
      "3    0.341463\n",
      "4    0.103774\n",
      "dtype: float64\n"
     ]
    }
   ],
   "source": [
    "df = pd.DataFrame(cur.execute('SELECT MP.DateManufact, MP.ModelID, MR.NumFaults '\n",
    "                              'FROM ManufacturedProducts AS MP ' \n",
    "                              'INNER JOIN ModelReliability AS MR '\n",
    "                              'ON MP.ModelID = MR.ModelID').fetchall(), columns = ['Date','ModelID','NumFaults'])\n",
    "\n",
    "df['Days'] = (pd.to_datetime('today')-pd.to_datetime(df['Date'])).dt.days\n",
    "grouped = df.groupby('ModelID')\n",
    "print('Faults per day since production\\n', grouped.NumFaults.mean()/grouped.Days.sum())"
   ]
  },
  {
   "cell_type": "markdown",
   "metadata": {},
   "source": [
    "### Question #4: How much revenue has come from each customer every month?"
   ]
  },
  {
   "cell_type": "code",
   "execution_count": 81,
   "metadata": {
    "ExecuteTime": {
     "end_time": "2020-07-27T21:33:58.367527Z",
     "start_time": "2020-07-27T21:33:58.354123Z"
    }
   },
   "outputs": [
    {
     "data": {
      "text/plain": [
       "Company  Month\n",
       "Amazon   5        19000.0\n",
       "         7         8000.0\n",
       "Boeing   5         8000.0\n",
       "         6        11000.0\n",
       "         7         8000.0\n",
       "Walmart  6        23000.0\n",
       "Name: Price, dtype: float64"
      ]
     },
     "execution_count": 81,
     "metadata": {},
     "output_type": "execute_result"
    }
   ],
   "source": [
    "df = pd.DataFrame(cur.execute('SELECT CO.CompanyName, MAP.DateManufact, MOP.Price '\n",
    "                              'FROM CustomerOwnership AS CO ' \n",
    "                              'INNER JOIN ManufacturedProducts AS MAP, ModelPrice AS MOP '\n",
    "                              'ON CO.ProductID = MAP.ProductID AND MAP.ModelID = MOP.ModelID').fetchall(),\n",
    "                 columns = ['Company','Month','Price'])\n",
    "df['Month'] = pd.to_datetime(df['Month'])\n",
    "df.groupby([df.Company,df.Month.dt.month]).Price.sum()"
   ]
  },
  {
   "cell_type": "code",
   "execution_count": 82,
   "metadata": {
    "ExecuteTime": {
     "end_time": "2020-07-27T21:34:52.955700Z",
     "start_time": "2020-07-27T21:34:52.952059Z"
    }
   },
   "outputs": [],
   "source": [
    "connection.close()"
   ]
  }
 ],
 "metadata": {
  "kernelspec": {
   "display_name": "Python 3",
   "language": "python",
   "name": "python3"
  },
  "language_info": {
   "codemirror_mode": {
    "name": "ipython",
    "version": 3
   },
   "file_extension": ".py",
   "mimetype": "text/x-python",
   "name": "python",
   "nbconvert_exporter": "python",
   "pygments_lexer": "ipython3",
   "version": "3.6.10"
  }
 },
 "nbformat": 4,
 "nbformat_minor": 4
}
